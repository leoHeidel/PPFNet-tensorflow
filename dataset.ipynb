{
 "cells": [
  {
   "cell_type": "code",
   "execution_count": 5,
   "id": "incoming-arizona",
   "metadata": {},
   "outputs": [],
   "source": [
    "import tqdm\n",
    "\n",
    "import numpy as np\n",
    "\n",
    "import src"
   ]
  },
  {
   "cell_type": "code",
   "execution_count": 6,
   "id": "latter-springer",
   "metadata": {},
   "outputs": [
    {
     "name": "stderr",
     "output_type": "stream",
     "text": [
      "100%|██████████| 20/20 [00:01<00:00, 12.71it/s]\n"
     ]
    }
   ],
   "source": [
    "train_models = src.shapenet.get_shapenet_data(\"train\")\n",
    "clouds = []\n",
    "for i in tqdm.tqdm(range(20)):\n",
    "    model_path = train_models[np.random.randint(len(train_models))]\n",
    "    cloud = src.shapenet.sample_points(model_path, nb=100000)\n",
    "    clouds.append(cloud)"
   ]
  },
  {
   "cell_type": "code",
   "execution_count": 7,
   "id": "democratic-desperate",
   "metadata": {},
   "outputs": [
    {
     "name": "stderr",
     "output_type": "stream",
     "text": [
      "100%|██████████| 20/20 [00:22<00:00,  1.13s/it]\n"
     ]
    }
   ],
   "source": [
    "extracted = []\n",
    "extractor = src.dataset.PPFPatchExtractor(nb_patches=2044, nb_points=1024)\n",
    "for cloud in tqdm.tqdm(clouds):\n",
    "    ppf, M = extractor.make_example(cloud)\n",
    "    extracted.append((ppf,M))"
   ]
  },
  {
   "cell_type": "code",
   "execution_count": 8,
   "id": "neither-coordinate",
   "metadata": {},
   "outputs": [
    {
     "name": "stderr",
     "output_type": "stream",
     "text": [
      "100%|██████████| 20/20 [00:00<00:00, 92.11it/s]\n"
     ]
    }
   ],
   "source": [
    "loss_func = src.loss.N_tuple_loss(extractor.nb_patches)\n",
    "for ppf, M in tqdm.tqdm(extracted):\n",
    "    pred = np.random.random((1, extractor.nb_patches, 13)).astype(np.float32)\n",
    "    res = loss_func(M[np.newaxis,...],pred)"
   ]
  },
  {
   "cell_type": "code",
   "execution_count": 9,
   "id": "bearing-anniversary",
   "metadata": {},
   "outputs": [
    {
     "data": {
      "text/plain": [
       "(2044, 1024, 10)"
      ]
     },
     "execution_count": 9,
     "metadata": {},
     "output_type": "execute_result"
    }
   ],
   "source": [
    "ppf.shape"
   ]
  },
  {
   "cell_type": "code",
   "execution_count": null,
   "id": "furnished-prevention",
   "metadata": {},
   "outputs": [],
   "source": []
  }
 ],
 "metadata": {
  "kernelspec": {
   "display_name": "Python 3",
   "language": "python",
   "name": "python3"
  },
  "language_info": {
   "codemirror_mode": {
    "name": "ipython",
    "version": 3
   },
   "file_extension": ".py",
   "mimetype": "text/x-python",
   "name": "python",
   "nbconvert_exporter": "python",
   "pygments_lexer": "ipython3",
   "version": "3.6.12"
  }
 },
 "nbformat": 4,
 "nbformat_minor": 5
}
