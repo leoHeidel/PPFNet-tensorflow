{
 "cells": [
  {
   "cell_type": "code",
   "execution_count": 7,
   "id": "incoming-arizona",
   "metadata": {},
   "outputs": [],
   "source": [
    "import tqdm\n",
    "\n",
    "import numpy as np\n",
    "\n",
    "import src"
   ]
  },
  {
   "cell_type": "code",
   "execution_count": 41,
   "id": "latter-springer",
   "metadata": {},
   "outputs": [
    {
     "name": "stderr",
     "output_type": "stream",
     "text": [
      "100%|██████████| 10/10 [00:02<00:00,  3.81it/s]\n"
     ]
    }
   ],
   "source": [
    "train_models = src.shapenet.get_shapenet_data(\"train\")\n",
    "for i in tqdm.tqdm(range(10)):\n",
    "    model_path = train_models[np.random.randint(len(train_models))]\n",
    "    cloud = src.shapenet.sample_points(model_path, nb=10000)"
   ]
  },
  {
   "cell_type": "code",
   "execution_count": 42,
   "id": "afraid-hunger",
   "metadata": {},
   "outputs": [],
   "source": [
    "from sklearn.neighbors import KDTree"
   ]
  },
  {
   "cell_type": "code",
   "execution_count": 82,
   "id": "ahead-myanmar",
   "metadata": {},
   "outputs": [],
   "source": [
    "model_path = train_models[np.random.randint(len(train_models))]    "
   ]
  },
  {
   "cell_type": "code",
   "execution_count": 98,
   "id": "apart-scottish",
   "metadata": {},
   "outputs": [],
   "source": [
    "def angle(u,v):\n",
    "    cross = np.linalg.norm(np.cross(u, v), axis=-1)\n",
    "    dot = np.sum(u*v, axis=-1)\n",
    "    return np.arctan2(cross, dot)\n",
    "\n",
    "\n",
    "class PPFPatchExtractor:\n",
    "    \"\"\"\n",
    "    From a point cloud:\n",
    "    Sample the points that will be centers\n",
    "    Using KD-tree find neighborhoods\n",
    "    Then compute PPF on them.\n",
    "    \"\"\"\n",
    "    def __init__(self, nb_patches=512, nb_points=256, tau=0.1):\n",
    "        self.nb_patches = nb_patches\n",
    "        self.nb_points = nb_points\n",
    "        self.tau = tau\n",
    "        \n",
    "    def make_patches(self, cloud):\n",
    "        points, normals = cloud\n",
    "        centers_idx = np.random.choice(len(points), size=self.nb_patches, replace=False)\n",
    "        centers = points[centers_idx]\n",
    "        kd_tree = KDTree(points) \n",
    "        indexes = kd_tree.query(centers, k=self.nb_points, return_distance=False)\n",
    "        patches = points[indexes]\n",
    "        centers_normals = normals[centers_idx]\n",
    "        patches_normals = normals[indexes]\n",
    "        return centers, centers_normals, patches, patches_normals\n",
    "\n",
    "    def compute_ppf(self, centers, centers_normals, patches, patches_normals):\n",
    "        centers = centers[:,np.newaxis,:]\n",
    "        centers_normals = centers_normals[:,np.newaxis,:]\n",
    "        delta = patches - centers\n",
    "        dist = np.linalg.norm(delta, axis=-1)\n",
    "        angle_0 = angle(centers_normals, delta) \n",
    "        angle_1 = angle(patches_normals, delta) \n",
    "        angle_2 = angle(centers_normals, patches_normals) \n",
    "        ppf = np.stack((dist, angle_0, angle_1, angle_2), axis=-1)\n",
    "        features = np.concatenate((delta, patches_normals, ppf), axis=-1)\n",
    "        return features\n",
    "    \n",
    "    def compute_M(self, centers):\n",
    "        diff = centers[:,np.newaxis] - centers[np.newaxis,:]\n",
    "        dist = np.sum(diff*diff, axis=-1)\n",
    "        M = dist < self.tau*self.tau\n",
    "        return M\n",
    "    \n",
    "    def make_example(self, cloud):\n",
    "        \"\"\"\n",
    "        Transform point cloud with normals into PPF.\n",
    "        \"\"\"\n",
    "        centers, centers_normals, patches, patches_normals =  self.make_patches(cloud)\n",
    "        ppf = self.compute_ppf(centers, centers_normals, patches, patches_normals)\n",
    "        M = self.compute_M(centers)\n",
    "        return ppf, M\n",
    "    \n",
    "    def get_N_tuple_loss(self):\n",
    "        @tf.function\n",
    "        def loss(M, pred):\n",
    "            pass\n",
    "\n",
    "extractor = PPFPatchExtractor()\n",
    "res = extractor.make_example(cloud)"
   ]
  },
  {
   "cell_type": "code",
   "execution_count": null,
   "id": "solar-eleven",
   "metadata": {},
   "outputs": [],
   "source": []
  },
  {
   "cell_type": "code",
   "execution_count": null,
   "id": "recorded-southwest",
   "metadata": {},
   "outputs": [],
   "source": []
  },
  {
   "cell_type": "code",
   "execution_count": null,
   "id": "capital-oriental",
   "metadata": {},
   "outputs": [],
   "source": []
  },
  {
   "cell_type": "code",
   "execution_count": 13,
   "id": "spoken-thirty",
   "metadata": {},
   "outputs": [
    {
     "data": {
      "text/plain": [
       "(array([[-0.05049742,  0.001337  ,  0.17563553],\n",
       "        [-0.05518185,  0.01112944, -0.08736867],\n",
       "        [ 0.20113309,  0.007514  , -0.0510883 ],\n",
       "        ...,\n",
       "        [-0.07569871,  0.01077688, -0.0801021 ],\n",
       "        [-0.0385164 ,  0.00343553,  0.167939  ],\n",
       "        [-0.01597736,  0.02162101, -0.17428771]]),\n",
       " array([[-0.        , -1.        ,  0.        ],\n",
       "        [-0.01718161,  0.99985239,  0.        ],\n",
       "        [ 0.        , -1.        ,  0.        ],\n",
       "        ...,\n",
       "        [ 0.01718161, -0.99985239,  0.        ],\n",
       "        [ 0.        ,  0.        ,  1.        ],\n",
       "        [-0.78951488,  0.61361096,  0.01215885]]))"
      ]
     },
     "execution_count": 13,
     "metadata": {},
     "output_type": "execute_result"
    }
   ],
   "source": [
    "nb\n",
    "patch_centers = np.random.choice(len(points), size=)"
   ]
  },
  {
   "cell_type": "code",
   "execution_count": null,
   "id": "interesting-terminal",
   "metadata": {},
   "outputs": [],
   "source": []
  },
  {
   "cell_type": "code",
   "execution_count": null,
   "id": "bearing-anniversary",
   "metadata": {},
   "outputs": [],
   "source": []
  },
  {
   "cell_type": "code",
   "execution_count": null,
   "id": "furnished-prevention",
   "metadata": {},
   "outputs": [],
   "source": []
  }
 ],
 "metadata": {
  "kernelspec": {
   "display_name": "Python 3",
   "language": "python",
   "name": "python3"
  },
  "language_info": {
   "codemirror_mode": {
    "name": "ipython",
    "version": 3
   },
   "file_extension": ".py",
   "mimetype": "text/x-python",
   "name": "python",
   "nbconvert_exporter": "python",
   "pygments_lexer": "ipython3",
   "version": "3.6.12"
  }
 },
 "nbformat": 4,
 "nbformat_minor": 5
}
