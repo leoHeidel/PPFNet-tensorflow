{
 "cells": [
  {
   "cell_type": "code",
   "execution_count": 5,
   "id": "incoming-arizona",
   "metadata": {},
   "outputs": [],
   "source": [
    "import glob \n",
    "\n",
    "import tqdm\n",
    "\n",
    "import src\n"
   ]
  },
  {
   "cell_type": "code",
   "execution_count": 6,
   "id": "fiscal-steps",
   "metadata": {},
   "outputs": [
    {
     "name": "stderr",
     "output_type": "stream",
     "text": [
      "100%|██████████| 1000/1000 [01:23<00:00, 11.99it/s]\n"
     ]
    }
   ],
   "source": [
    "models = glob.glob(src.SHAPENET_MODELS)\n",
    "for i in tqdm.tqdm(range(1000)):\n",
    "    model_path = models[np.random.randint(len(models))]\n",
    "    cloud = src.shapenet.sample_points(model_path)"
   ]
  },
  {
   "cell_type": "code",
   "execution_count": null,
   "id": "renewable-passport",
   "metadata": {},
   "outputs": [],
   "source": []
  },
  {
   "cell_type": "code",
   "execution_count": null,
   "id": "resistant-illustration",
   "metadata": {},
   "outputs": [],
   "source": []
  },
  {
   "cell_type": "code",
   "execution_count": 15,
   "id": "northern-influence",
   "metadata": {},
   "outputs": [],
   "source": [
    "df = pd.read_csv(src.SHAPENET_SPLIT)\n",
    "df = df.set_index(\"modelId\")"
   ]
  },
  {
   "cell_type": "code",
   "execution_count": 22,
   "id": "experimental-producer",
   "metadata": {},
   "outputs": [],
   "source": [
    "import os\n",
    "\n",
    "import pandas as pd \n",
    "\n",
    "def get_shapenet_data(split=\"train\"):\n",
    "    paths = glob.glob(src.SHAPENET_MODELS)\n",
    "    df = pd.read_csv(src.SHAPENET_SPLIT)\n",
    "    df = df.set_index(\"modelId\")\n",
    "    res = []\n",
    "    for path in paths:\n",
    "        name = path.split(os.sep)[-3]\n",
    "        if name in df.index and df.loc[name, \"split\"] == split:\n",
    "            res.append(path)\n",
    "    return res\n",
    "\n",
    "train = get_shapenet_data(\"train\")"
   ]
  },
  {
   "cell_type": "code",
   "execution_count": null,
   "id": "indirect-month",
   "metadata": {},
   "outputs": [],
   "source": []
  }
 ],
 "metadata": {
  "kernelspec": {
   "display_name": "Python 3",
   "language": "python",
   "name": "python3"
  },
  "language_info": {
   "codemirror_mode": {
    "name": "ipython",
    "version": 3
   },
   "file_extension": ".py",
   "mimetype": "text/x-python",
   "name": "python",
   "nbconvert_exporter": "python",
   "pygments_lexer": "ipython3",
   "version": "3.6.12"
  }
 },
 "nbformat": 4,
 "nbformat_minor": 5
}
