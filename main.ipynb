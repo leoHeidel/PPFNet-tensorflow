{
 "cells": [
  {
   "cell_type": "code",
   "execution_count": 1,
   "id": "gentle-literacy",
   "metadata": {},
   "outputs": [],
   "source": [
    "import numpy as np\n",
    "import tqdm.notebook as tqdm\n",
    "\n",
    "import src\n",
    "\n",
    "import tensorflow.keras as keras\n",
    "import tensorflow as tf\n",
    "physical_devices = tf.config.list_physical_devices('GPU')\n",
    "tf.config.experimental.set_memory_growth(physical_devices[0], True)"
   ]
  },
  {
   "cell_type": "code",
   "execution_count": 2,
   "id": "least-pound",
   "metadata": {},
   "outputs": [],
   "source": [
    "nb_points_per_patches = 1024\n",
    "nb_patches=2048\n",
    "nb_points = 100000\n",
    "\n",
    "\n",
    "scenes_path = src.threeDMatch.get_sun3d_scenes(split=\"train\")\n",
    "\n",
    "def get_gen():\n",
    "    while 1:\n",
    "        gens = []\n",
    "        for s in scenes_path[:1]:\n",
    "            gens.append(src.threeDMatch.gen_scene_couple(s, \"data/preprocessed-sun3d\"))\n",
    "        for examples in zip(*gens):\n",
    "            for a,b in examples:\n",
    "                yield a,b    "
   ]
  },
  {
   "cell_type": "code",
   "execution_count": 3,
   "id": "revised-stanley",
   "metadata": {},
   "outputs": [],
   "source": [
    "nb_points = 30000\n",
    "\n",
    "def get_frame_cloud(frame):\n",
    "    cloud = src.threeDMatch.get_cloud(frame, return_color=False)\n",
    "    idx = np.random.choice(len(cloud), nb_points)\n",
    "    return cloud[idx], src.threeDMatch.get_normals(cloud, idx=idx)\n",
    "\n",
    "@tf.autograph.experimental.do_not_convert\n",
    "def extract(path_a, path_b):\n",
    "    cloud_a = get_frame_cloud(path_a.decode(\"utf-8\"))\n",
    "    cloud_b = get_frame_cloud(path_b.decode(\"utf-8\"))\n",
    "    extractor = src.dataset.PPFPatchExtractor(nb_patches=nb_patches, nb_points=nb_points_per_patches, tau=0.1)\n",
    "    ppf, M = extractor.extract_pair(cloud_a, cloud_b)\n",
    "    return ppf, M\n",
    "\n",
    "def _map(path_a, path_b):\n",
    "    y = tf.numpy_function(extract, [path_a, path_b], (tf.float32, tf.float32))\n",
    "    return y\n",
    "\n",
    "dataset = tf.data.Dataset.from_generator(get_gen, output_types=(tf.string, tf.string))\n",
    "dataset = dataset.map(_map, num_parallel_calls=8)#Will do it in parrallel \n",
    "dataset = dataset.batch(4)\n",
    "dataset = dataset.prefetch(4)"
   ]
  },
  {
   "cell_type": "code",
   "execution_count": 5,
   "id": "legitimate-acquisition",
   "metadata": {},
   "outputs": [],
   "source": [
    "ppfnet = src.pointnet.PPFNet(input_shape = (2, None, None,10))\n",
    "optimizer = keras.optimizers.Adam(lr=0.001)\n",
    "ppfnet.model.compile(optimizer=optimizer, loss=src.loss.N_tuple_loss_pair(nb_patches))"
   ]
  },
  {
   "cell_type": "code",
   "execution_count": 7,
   "id": "surrounded-grass",
   "metadata": {},
   "outputs": [
    {
     "data": {
      "text/plain": [
       "<tensorflow.python.training.tracking.util.CheckpointLoadStatus at 0x7f26dc7a5978>"
      ]
     },
     "execution_count": 7,
     "metadata": {},
     "output_type": "execute_result"
    }
   ],
   "source": [
    "#ppfnet.model.load_weights(\"models/sun_trained_9.tf\")"
   ]
  },
  {
   "cell_type": "code",
   "execution_count": 8,
   "id": "variable-maple",
   "metadata": {
    "scrolled": true
   },
   "outputs": [
    {
     "data": {
      "application/vnd.jupyter.widget-view+json": {
       "model_id": "e9ef43c5e45e442bb4fe31750a91b4f6",
       "version_major": 2,
       "version_minor": 0
      },
      "text/plain": [
       "HBox(children=(FloatProgress(value=0.0, max=2000.0), HTML(value='')))"
      ]
     },
     "metadata": {},
     "output_type": "display_data"
    },
    {
     "name": "stdout",
     "output_type": "stream",
     "text": [
      "\n"
     ]
    }
   ],
   "source": [
    "loss = []\n",
    "train_steps =  2000\n",
    "pb = tqdm.tqdm(dataset.take(train_steps), total=train_steps)\n",
    "for x,y in pb:\n",
    "    res = ppfnet.model.train_on_batch(x,y)\n",
    "    pb.set_description(f\"loss {res:0.4}\")\n",
    "    pb.refresh() \n",
    "    loss.append(res)"
   ]
  },
  {
   "cell_type": "code",
   "execution_count": 10,
   "id": "unknown-liverpool",
   "metadata": {},
   "outputs": [],
   "source": [
    "ppfnet.model.save_weights(\"models/sun_trained_11.tf\")"
   ]
  },
  {
   "cell_type": "code",
   "execution_count": 10,
   "id": "married-prayer",
   "metadata": {},
   "outputs": [
    {
     "data": {
      "text/plain": [
       "[<matplotlib.lines.Line2D at 0x7f22800f5e48>]"
      ]
     },
     "execution_count": 10,
     "metadata": {},
     "output_type": "execute_result"
    },
    {
     "data": {
      "image/png": "[encoded data removed]",
      "text/plain": [
       "<Figure size 432x288 with 1 Axes>"
      ]
     },
     "metadata": {
      "needs_background": "light"
     },
     "output_type": "display_data"
    }
   ],
   "source": [
    "import matplotlib.pyplot as plt\n",
    "plt.plot(loss)"
   ]
  },
  {
   "cell_type": "code",
   "execution_count": null,
   "id": "caroline-pickup",
   "metadata": {},
   "outputs": [],
   "source": []
  }
 ],
 "metadata": {
  "kernelspec": {
   "display_name": "Python 3",
   "language": "python",
   "name": "python3"
  },
  "language_info": {
   "codemirror_mode": {
    "name": "ipython",
    "version": 3
   },
   "file_extension": ".py",
   "mimetype": "text/x-python",
   "name": "python",
   "nbconvert_exporter": "python",
   "pygments_lexer": "ipython3",
   "version": "3.6.12"
  }
 },
 "nbformat": 4,
 "nbformat_minor": 5
}
