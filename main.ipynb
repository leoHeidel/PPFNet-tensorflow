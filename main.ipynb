{
 "cells": [
  {
   "cell_type": "code",
   "execution_count": 7,
   "id": "gentle-literacy",
   "metadata": {},
   "outputs": [],
   "source": [
    "import numpy as np\n",
    "import tqdm.notebook as tqdm\n",
    "\n",
    "import src\n",
    "\n",
    "import tensorflow.keras as keras\n",
    "import tensorflow as tf\n",
    "physical_devices = tf.config.list_physical_devices('GPU')\n",
    "tf.config.experimental.set_memory_growth(physical_devices[0], True)"
   ]
  },
  {
   "cell_type": "code",
   "execution_count": 8,
   "id": "liable-recall",
   "metadata": {},
   "outputs": [],
   "source": [
    "train_models = src.shapenet.get_shapenet_data(\"train\")\n",
    "np.random.shuffle(train_models)"
   ]
  },
  {
   "cell_type": "code",
   "execution_count": 9,
   "id": "revised-stanley",
   "metadata": {},
   "outputs": [],
   "source": [
    "nb_points_per_patches = 1024\n",
    "nb_patches=2048\n",
    "nb_points = 100000\n",
    "\n",
    "@tf.autograph.experimental.do_not_convert\n",
    "def extract(path):\n",
    "    cloud = src.shapenet.sample_points(path.decode(\"utf-8\") , nb=nb_points)\n",
    "    extractor = src.dataset.PPFPatchExtractor(nb_patches=nb_patches, nb_points=nb_points_per_patches)\n",
    "    #extractor = src.dataset.PPFPatchExtractor(nb_patches=512, nb_points=256)\n",
    "    ppf, M = extractor.make_example(cloud)\n",
    "    return ppf, M\n",
    "\n",
    "def _map(path):\n",
    "    y = tf.numpy_function(extract, [path], (tf.float32, tf.float32))\n",
    "    return y\n",
    "dataset = tf.data.Dataset.from_tensor_slices(train_models)\n",
    "dataset = dataset.map(_map, num_parallel_calls=16)#Will do it in parrallel \n",
    "dataset = dataset.apply(tf.data.experimental.ignore_errors())\n",
    "dataset = dataset.batch(4)\n",
    "dataset = dataset.prefetch(4)"
   ]
  },
  {
   "cell_type": "code",
   "execution_count": 10,
   "id": "legitimate-acquisition",
   "metadata": {},
   "outputs": [],
   "source": [
    "ppfnet = src.pointnet.PPFNet()\n",
    "optimizer = keras.optimizers.Adam(lr=0.01)\n",
    "ppfnet.model.compile(optimizer=optimizer, loss=src.loss.N_tuple_loss(nb_patches))"
   ]
  },
  {
   "cell_type": "code",
   "execution_count": 11,
   "id": "synthetic-columbia",
   "metadata": {},
   "outputs": [],
   "source": [
    "#ppfnet.model.fit(dataset)"
   ]
  },
  {
   "cell_type": "code",
   "execution_count": 13,
   "id": "variable-maple",
   "metadata": {
    "scrolled": true
   },
   "outputs": [
    {
     "data": {
      "application/vnd.jupyter.widget-view+json": {
       "model_id": "0b51dd230caf456ab923135c693f5810",
       "version_major": 2,
       "version_minor": 0
      },
      "text/plain": [
       "HBox(children=(FloatProgress(value=0.0, max=2500.0), HTML(value='')))"
      ]
     },
     "metadata": {},
     "output_type": "display_data"
    },
    {
     "name": "stdout",
     "output_type": "stream",
     "text": [
      "\n",
      "\n"
     ]
    },
    {
     "name": "stderr",
     "output_type": "stream",
     "text": [
      "failed to load image\n",
      "Traceback (most recent call last):\n",
      "  File \"/home/leo/miniconda3/lib/python3.6/site-packages/trimesh/exchange/obj.py\", line 324, in parse_mtl\n",
      "    file_data = resolver.get(split[1])\n",
      "  File \"/home/leo/miniconda3/lib/python3.6/site-packages/trimesh/resolvers.py\", line 84, in get\n",
      "    with open(os.path.join(self.parent, name.strip()), 'rb') as f:\n",
      "FileNotFoundError: [Errno 2] No such file or directory: '/home/leo/Documents/PPFNet-tensorflow/data/ShapeNetCore.v2/02958343/373cf6c8f79376482d7d789814cae761/models/./images/Metal_Brass_Ceiling.jpg'\n",
      "failed to load image\n",
      "Traceback (most recent call last):\n",
      "  File \"/home/leo/miniconda3/lib/python3.6/site-packages/trimesh/exchange/obj.py\", line 324, in parse_mtl\n",
      "    file_data = resolver.get(split[1])\n",
      "  File \"/home/leo/miniconda3/lib/python3.6/site-packages/trimesh/resolvers.py\", line 84, in get\n",
      "    with open(os.path.join(self.parent, name.strip()), 'rb') as f:\n",
      "FileNotFoundError: [Errno 2] No such file or directory: '/home/leo/Documents/PPFNet-tensorflow/data/ShapeNetCore.v2/02958343/373cf6c8f79376482d7d789814cae761/models/./images/TV_diffusori.jpg'\n",
      "failed to load image\n",
      "Traceback (most recent call last):\n",
      "  File \"/home/leo/miniconda3/lib/python3.6/site-packages/trimesh/exchange/obj.py\", line 324, in parse_mtl\n",
      "    file_data = resolver.get(split[1])\n",
      "  File \"/home/leo/miniconda3/lib/python3.6/site-packages/trimesh/resolvers.py\", line 84, in get\n",
      "    with open(os.path.join(self.parent, name.strip()), 'rb') as f:\n",
      "FileNotFoundError: [Errno 2] No such file or directory: '/home/leo/Documents/PPFNet-tensorflow/data/ShapeNetCore.v2/02958343/373cf6c8f79376482d7d789814cae761/models/./images/__Charcoal_9.JPG'\n",
      "failed to load image\n",
      "Traceback (most recent call last):\n",
      "  File \"/home/leo/miniconda3/lib/python3.6/site-packages/trimesh/exchange/obj.py\", line 324, in parse_mtl\n",
      "    file_data = resolver.get(split[1])\n",
      "  File \"/home/leo/miniconda3/lib/python3.6/site-packages/trimesh/resolvers.py\", line 84, in get\n",
      "    with open(os.path.join(self.parent, name.strip()), 'rb') as f:\n",
      "FileNotFoundError: [Errno 2] No such file or directory: '/home/leo/Documents/PPFNet-tensorflow/data/ShapeNetCore.v2/02958343/373cf6c8f79376482d7d789814cae761/models/./images/__Glass_Sky_Reflection_1.jpg'\n",
      "failed to load image\n",
      "Traceback (most recent call last):\n",
      "  File \"/home/leo/miniconda3/lib/python3.6/site-packages/trimesh/exchange/obj.py\", line 324, in parse_mtl\n",
      "    file_data = resolver.get(split[1])\n",
      "  File \"/home/leo/miniconda3/lib/python3.6/site-packages/trimesh/resolvers.py\", line 84, in get\n",
      "    with open(os.path.join(self.parent, name.strip()), 'rb') as f:\n",
      "FileNotFoundError: [Errno 2] No such file or directory: '/home/leo/Documents/PPFNet-tensorflow/data/ShapeNetCore.v2/02958343/373cf6c8f79376482d7d789814cae761/models/./images/__Glass_Sky_Reflection_1_copy1.jpg'\n",
      "failed to load image\n",
      "Traceback (most recent call last):\n",
      "  File \"/home/leo/miniconda3/lib/python3.6/site-packages/trimesh/exchange/obj.py\", line 324, in parse_mtl\n",
      "    file_data = resolver.get(split[1])\n",
      "  File \"/home/leo/miniconda3/lib/python3.6/site-packages/trimesh/resolvers.py\", line 84, in get\n",
      "    with open(os.path.join(self.parent, name.strip()), 'rb') as f:\n",
      "FileNotFoundError: [Errno 2] No such file or directory: '/home/leo/Documents/PPFNet-tensorflow/data/ShapeNetCore.v2/02958343/373cf6c8f79376482d7d789814cae761/models/./images/__Glass_Sky_Reflection_1_copy.jpg'\n",
      "failed to load image\n",
      "Traceback (most recent call last):\n",
      "  File \"/home/leo/miniconda3/lib/python3.6/site-packages/trimesh/exchange/obj.py\", line 324, in parse_mtl\n",
      "    file_data = resolver.get(split[1])\n",
      "  File \"/home/leo/miniconda3/lib/python3.6/site-packages/trimesh/resolvers.py\", line 84, in get\n",
      "    with open(os.path.join(self.parent, name.strip()), 'rb') as f:\n",
      "FileNotFoundError: [Errno 2] No such file or directory: '/home/leo/Documents/PPFNet-tensorflow/data/ShapeNetCore.v2/02958343/373cf6c8f79376482d7d789814cae761/models/./images/__Metal_Corrogated_Shiny_1.jpg'\n",
      "failed to load image\n",
      "Traceback (most recent call last):\n",
      "  File \"/home/leo/miniconda3/lib/python3.6/site-packages/trimesh/exchange/obj.py\", line 324, in parse_mtl\n",
      "    file_data = resolver.get(split[1])\n",
      "  File \"/home/leo/miniconda3/lib/python3.6/site-packages/trimesh/resolvers.py\", line 84, in get\n",
      "    with open(os.path.join(self.parent, name.strip()), 'rb') as f:\n",
      "FileNotFoundError: [Errno 2] No such file or directory: '/home/leo/Documents/PPFNet-tensorflow/data/ShapeNetCore.v2/03001627/7ad134826824de98d0bef5e87b92b95e/models/./images/Wood_Floor_Light.jpg'\n",
      "/home/leo/miniconda3/lib/python3.6/site-packages/PIL/TiffImagePlugin.py:793: UserWarning: Corrupt EXIF data.  Expecting to read 4 bytes but only got 0. \n",
      "  warnings.warn(str(msg))\n",
      "failed to load image\n",
      "Traceback (most recent call last):\n",
      "  File \"/home/leo/miniconda3/lib/python3.6/site-packages/trimesh/exchange/obj.py\", line 324, in parse_mtl\n",
      "    file_data = resolver.get(split[1])\n",
      "  File \"/home/leo/miniconda3/lib/python3.6/site-packages/trimesh/resolvers.py\", line 84, in get\n",
      "    with open(os.path.join(self.parent, name.strip()), 'rb') as f:\n",
      "FileNotFoundError: [Errno 2] No such file or directory: '/home/leo/Documents/PPFNet-tensorflow/data/ShapeNetCore.v2/02958343/846f4ad1db06d8791e0b067dee925db4/models/../images/texture0.jpg'\n",
      "failed to load image\n",
      "Traceback (most recent call last):\n",
      "  File \"/home/leo/miniconda3/lib/python3.6/site-packages/trimesh/exchange/obj.py\", line 328, in parse_mtl\n",
      "    util.wrap_as_stream(file_data))\n",
      "  File \"/home/leo/miniconda3/lib/python3.6/site-packages/PIL/Image.py\", line 2959, in open\n",
      "    \"cannot identify image file %r\" % (filename if filename else fp)\n",
      "PIL.UnidentifiedImageError: cannot identify image file <_io.BytesIO object at 0x7f51a80c3c50>\n",
      "failed to load image\n",
      "Traceback (most recent call last):\n",
      "  File \"/home/leo/miniconda3/lib/python3.6/site-packages/trimesh/exchange/obj.py\", line 328, in parse_mtl\n",
      "    util.wrap_as_stream(file_data))\n",
      "  File \"/home/leo/miniconda3/lib/python3.6/site-packages/PIL/Image.py\", line 2959, in open\n",
      "    \"cannot identify image file %r\" % (filename if filename else fp)\n",
      "PIL.UnidentifiedImageError: cannot identify image file <_io.BytesIO object at 0x7f51a80c3c50>\n",
      "failed to load image\n",
      "Traceback (most recent call last):\n",
      "  File \"/home/leo/miniconda3/lib/python3.6/site-packages/trimesh/exchange/obj.py\", line 324, in parse_mtl\n",
      "    file_data = resolver.get(split[1])\n",
      "  File \"/home/leo/miniconda3/lib/python3.6/site-packages/trimesh/resolvers.py\", line 84, in get\n",
      "    with open(os.path.join(self.parent, name.strip()), 'rb') as f:\n",
      "FileNotFoundError: [Errno 2] No such file or directory: '/home/leo/Documents/PPFNet-tensorflow/data/ShapeNetCore.v2/02958343/685f2b388b018ab78cab9eeff9aeaee2/models/../images/texture0.JPG'\n",
      "failed to load image\n",
      "Traceback (most recent call last):\n",
      "  File \"/home/leo/miniconda3/lib/python3.6/site-packages/trimesh/exchange/obj.py\", line 324, in parse_mtl\n",
      "    file_data = resolver.get(split[1])\n",
      "  File \"/home/leo/miniconda3/lib/python3.6/site-packages/trimesh/resolvers.py\", line 84, in get\n",
      "    with open(os.path.join(self.parent, name.strip()), 'rb') as f:\n",
      "FileNotFoundError: [Errno 2] No such file or directory: '/home/leo/Documents/PPFNet-tensorflow/data/ShapeNetCore.v2/02958343/685f2b388b018ab78cab9eeff9aeaee2/models/../images/texture1.JPG'\n",
      "failed to load image\n",
      "Traceback (most recent call last):\n",
      "  File \"/home/leo/miniconda3/lib/python3.6/site-packages/trimesh/exchange/obj.py\", line 324, in parse_mtl\n",
      "    file_data = resolver.get(split[1])\n",
      "  File \"/home/leo/miniconda3/lib/python3.6/site-packages/trimesh/resolvers.py\", line 84, in get\n",
      "    with open(os.path.join(self.parent, name.strip()), 'rb') as f:\n",
      "FileNotFoundError: [Errno 2] No such file or directory: '/home/leo/Documents/PPFNet-tensorflow/data/ShapeNetCore.v2/02958343/685f2b388b018ab78cab9eeff9aeaee2/models/../images/texture2.JPG'\n",
      "failed to load image\n",
      "Traceback (most recent call last):\n",
      "  File \"/home/leo/miniconda3/lib/python3.6/site-packages/trimesh/exchange/obj.py\", line 324, in parse_mtl\n",
      "    file_data = resolver.get(split[1])\n",
      "  File \"/home/leo/miniconda3/lib/python3.6/site-packages/trimesh/resolvers.py\", line 84, in get\n",
      "    with open(os.path.join(self.parent, name.strip()), 'rb') as f:\n",
      "FileNotFoundError: [Errno 2] No such file or directory: '/home/leo/Documents/PPFNet-tensorflow/data/ShapeNetCore.v2/02958343/a1d85821a0666a4d8dc995728b1ad443/models/../images/texture0.JPG'\n"
     ]
    },
    {
     "name": "stderr",
     "output_type": "stream",
     "text": [
      "failed to load image\n",
      "Traceback (most recent call last):\n",
      "  File \"/home/leo/miniconda3/lib/python3.6/site-packages/trimesh/exchange/obj.py\", line 324, in parse_mtl\n",
      "    file_data = resolver.get(split[1])\n",
      "  File \"/home/leo/miniconda3/lib/python3.6/site-packages/trimesh/resolvers.py\", line 84, in get\n",
      "    with open(os.path.join(self.parent, name.strip()), 'rb') as f:\n",
      "IsADirectoryError: [Errno 21] Is a directory: '/home/leo/Documents/PPFNet-tensorflow/data/ShapeNetCore.v2/03046257/5972bc07e59371777bcb070cc655f13a/models/../'\n",
      "failed to load image\n",
      "Traceback (most recent call last):\n",
      "  File \"/home/leo/miniconda3/lib/python3.6/site-packages/trimesh/exchange/obj.py\", line 324, in parse_mtl\n",
      "    file_data = resolver.get(split[1])\n",
      "  File \"/home/leo/miniconda3/lib/python3.6/site-packages/trimesh/resolvers.py\", line 84, in get\n",
      "    with open(os.path.join(self.parent, name.strip()), 'rb') as f:\n",
      "FileNotFoundError: [Errno 2] No such file or directory: '/home/leo/Documents/PPFNet-tensorflow/data/ShapeNetCore.v2/02958343/b3ffbbb2e8a5376d4ed9aac513001a31/models/./images/Fencing_Diamond_Mesh.png'\n",
      "failed to load image\n",
      "Traceback (most recent call last):\n",
      "  File \"/home/leo/miniconda3/lib/python3.6/site-packages/trimesh/exchange/obj.py\", line 324, in parse_mtl\n",
      "    file_data = resolver.get(split[1])\n",
      "  File \"/home/leo/miniconda3/lib/python3.6/site-packages/trimesh/resolvers.py\", line 84, in get\n",
      "    with open(os.path.join(self.parent, name.strip()), 'rb') as f:\n",
      "FileNotFoundError: [Errno 2] No such file or directory: '/home/leo/Documents/PPFNet-tensorflow/data/ShapeNetCore.v2/02958343/b3ffbbb2e8a5376d4ed9aac513001a31/models/./images/alfa-romeo-159-2007_1_1.PNG'\n",
      "failed to load image\n",
      "Traceback (most recent call last):\n",
      "  File \"/home/leo/miniconda3/lib/python3.6/site-packages/trimesh/exchange/obj.py\", line 324, in parse_mtl\n",
      "    file_data = resolver.get(split[1])\n",
      "  File \"/home/leo/miniconda3/lib/python3.6/site-packages/trimesh/resolvers.py\", line 84, in get\n",
      "    with open(os.path.join(self.parent, name.strip()), 'rb') as f:\n",
      "FileNotFoundError: [Errno 2] No such file or directory: '/home/leo/Documents/PPFNet-tensorflow/data/ShapeNetCore.v2/02958343/b3ffbbb2e8a5376d4ed9aac513001a31/models/./images/alfa-romeo-159-2007_1_.PNG'\n",
      "failed to load image\n",
      "Traceback (most recent call last):\n",
      "  File \"/home/leo/miniconda3/lib/python3.6/site-packages/trimesh/exchange/obj.py\", line 324, in parse_mtl\n",
      "    file_data = resolver.get(split[1])\n",
      "  File \"/home/leo/miniconda3/lib/python3.6/site-packages/trimesh/resolvers.py\", line 84, in get\n",
      "    with open(os.path.join(self.parent, name.strip()), 'rb') as f:\n",
      "FileNotFoundError: [Errno 2] No such file or directory: '/home/leo/Documents/PPFNet-tensorflow/data/ShapeNetCore.v2/02958343/66be76d60405c58ae02ca9d4b3cbc724/models/../images/texture0.jpg'\n",
      "failed to load image\n",
      "Traceback (most recent call last):\n",
      "  File \"/home/leo/miniconda3/lib/python3.6/site-packages/trimesh/exchange/obj.py\", line 324, in parse_mtl\n",
      "    file_data = resolver.get(split[1])\n",
      "  File \"/home/leo/miniconda3/lib/python3.6/site-packages/trimesh/resolvers.py\", line 84, in get\n",
      "    with open(os.path.join(self.parent, name.strip()), 'rb') as f:\n",
      "FileNotFoundError: [Errno 2] No such file or directory: '/home/leo/Documents/PPFNet-tensorflow/data/ShapeNetCore.v2/02958343/66be76d60405c58ae02ca9d4b3cbc724/models/../images/texture1.jpg'\n",
      "failed to load image\n",
      "Traceback (most recent call last):\n",
      "  File \"/home/leo/miniconda3/lib/python3.6/site-packages/trimesh/exchange/obj.py\", line 324, in parse_mtl\n",
      "    file_data = resolver.get(split[1])\n",
      "  File \"/home/leo/miniconda3/lib/python3.6/site-packages/trimesh/resolvers.py\", line 84, in get\n",
      "    with open(os.path.join(self.parent, name.strip()), 'rb') as f:\n",
      "FileNotFoundError: [Errno 2] No such file or directory: '/home/leo/Documents/PPFNet-tensorflow/data/ShapeNetCore.v2/02958343/66be76d60405c58ae02ca9d4b3cbc724/models/../images/texture2.jpg'\n",
      "failed to load image\n",
      "Traceback (most recent call last):\n",
      "  File \"/home/leo/miniconda3/lib/python3.6/site-packages/trimesh/exchange/obj.py\", line 324, in parse_mtl\n",
      "    file_data = resolver.get(split[1])\n",
      "  File \"/home/leo/miniconda3/lib/python3.6/site-packages/trimesh/resolvers.py\", line 84, in get\n",
      "    with open(os.path.join(self.parent, name.strip()), 'rb') as f:\n",
      "IsADirectoryError: [Errno 21] Is a directory: '/home/leo/Documents/PPFNet-tensorflow/data/ShapeNetCore.v2/03001627/2ae70fbab330779e3bff5a09107428a5/models/../'\n",
      "vertex_normals are all set to zero!\n",
      "vertex_normals are all set to zero!\n",
      "failed to load image\n",
      "Traceback (most recent call last):\n",
      "  File \"/home/leo/miniconda3/lib/python3.6/site-packages/trimesh/exchange/obj.py\", line 324, in parse_mtl\n",
      "    file_data = resolver.get(split[1])\n",
      "  File \"/home/leo/miniconda3/lib/python3.6/site-packages/trimesh/resolvers.py\", line 84, in get\n",
      "    with open(os.path.join(self.parent, name.strip()), 'rb') as f:\n",
      "FileNotFoundError: [Errno 2] No such file or directory: '/home/leo/Documents/PPFNet-tensorflow/data/ShapeNetCore.v2/02958343/bb7fec347b2b57498747b160cf027f1/models/./images/_01_-_Default1.png'\n",
      "failed to load image\n",
      "Traceback (most recent call last):\n",
      "  File \"/home/leo/miniconda3/lib/python3.6/site-packages/trimesh/exchange/obj.py\", line 324, in parse_mtl\n",
      "    file_data = resolver.get(split[1])\n",
      "  File \"/home/leo/miniconda3/lib/python3.6/site-packages/trimesh/resolvers.py\", line 84, in get\n",
      "    with open(os.path.join(self.parent, name.strip()), 'rb') as f:\n",
      "FileNotFoundError: [Errno 2] No such file or directory: '/home/leo/Documents/PPFNet-tensorflow/data/ShapeNetCore.v2/02958343/bb7fec347b2b57498747b160cf027f1/models/./images/_02_-_Default1.png'\n",
      "failed to load image\n",
      "Traceback (most recent call last):\n",
      "  File \"/home/leo/miniconda3/lib/python3.6/site-packages/trimesh/exchange/obj.py\", line 324, in parse_mtl\n",
      "    file_data = resolver.get(split[1])\n",
      "  File \"/home/leo/miniconda3/lib/python3.6/site-packages/trimesh/resolvers.py\", line 84, in get\n",
      "    with open(os.path.join(self.parent, name.strip()), 'rb') as f:\n",
      "FileNotFoundError: [Errno 2] No such file or directory: '/home/leo/Documents/PPFNet-tensorflow/data/ShapeNetCore.v2/02958343/bb7fec347b2b57498747b160cf027f1/models/./images/_03_-_Default1.png'\n",
      "failed to load image\n",
      "Traceback (most recent call last):\n",
      "  File \"/home/leo/miniconda3/lib/python3.6/site-packages/trimesh/exchange/obj.py\", line 324, in parse_mtl\n",
      "    file_data = resolver.get(split[1])\n",
      "  File \"/home/leo/miniconda3/lib/python3.6/site-packages/trimesh/resolvers.py\", line 84, in get\n",
      "    with open(os.path.join(self.parent, name.strip()), 'rb') as f:\n",
      "FileNotFoundError: [Errno 2] No such file or directory: '/home/leo/Documents/PPFNet-tensorflow/data/ShapeNetCore.v2/02958343/bb7fec347b2b57498747b160cf027f1/models/./images/_07_-_Default1.png'\n"
     ]
    },
    {
     "name": "stdout",
     "output_type": "stream",
     "text": [
      "\n"
     ]
    }
   ],
   "source": [
    "loss = []\n",
    "train_steps = 2500\n",
    "pb = tqdm.tqdm(dataset.take(train_steps), total=train_steps)\n",
    "for x,y in pb:\n",
    "    res = ppfnet.model.train_on_batch(x,y)\n",
    "    pb.set_description(f\"loss {res:0.4}\")\n",
    "    pb.refresh() \n",
    "    loss.append(res)"
   ]
  },
  {
   "cell_type": "code",
   "execution_count": 14,
   "id": "ecological-island",
   "metadata": {},
   "outputs": [],
   "source": [
    "ppfnet.model.save_weights(\"models/test3\")"
   ]
  },
  {
   "cell_type": "code",
   "execution_count": null,
   "id": "polish-virus",
   "metadata": {},
   "outputs": [],
   "source": []
  },
  {
   "cell_type": "code",
   "execution_count": 17,
   "id": "married-prayer",
   "metadata": {},
   "outputs": [
    {
     "data": {
      "text/plain": [
       "[<matplotlib.lines.Line2D at 0x7f51b005f780>]"
      ]
     },
     "execution_count": 17,
     "metadata": {},
     "output_type": "execute_result"
    },
    {
     "data": {
      "image/png": "[encoded data removed]",
      "text/plain": [
       "<Figure size 432x288 with 1 Axes>"
      ]
     },
     "metadata": {
      "needs_background": "light"
     },
     "output_type": "display_data"
    }
   ],
   "source": [
    "import matplotlib.pyplot as plt\n",
    "plt.plot(loss)"
   ]
  },
  {
   "cell_type": "code",
   "execution_count": null,
   "id": "caroline-pickup",
   "metadata": {},
   "outputs": [],
   "source": []
  }
 ],
 "metadata": {
  "kernelspec": {
   "display_name": "Python 3",
   "language": "python",
   "name": "python3"
  },
  "language_info": {
   "codemirror_mode": {
    "name": "ipython",
    "version": 3
   },
   "file_extension": ".py",
   "mimetype": "text/x-python",
   "name": "python",
   "nbconvert_exporter": "python",
   "pygments_lexer": "ipython3",
   "version": "3.6.12"
  }
 },
 "nbformat": 4,
 "nbformat_minor": 5
}
